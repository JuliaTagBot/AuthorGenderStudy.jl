{
 "cells": [
  {
   "cell_type": "code",
   "execution_count": 1,
   "metadata": {},
   "outputs": [],
   "source": [
    "addprocs(8)\n",
    "using AuthorGenderStudy"
   ]
  },
  {
   "cell_type": "code",
   "execution_count": 2,
   "metadata": {},
   "outputs": [
    {
     "data": {
      "text/plain": [
       "to_ind (generic function with 2 methods)"
      ]
     },
     "execution_count": 2,
     "metadata": {},
     "output_type": "execute_result"
    }
   ],
   "source": [
    "using Embeddings\n",
    "using MLDataUtils\n",
    "\n",
    "\n",
    "o_embedding_table = load_embeddings(Word2Vec) \n",
    "\n",
    "# Add OOV zero vector\n",
    "const embedding_table = Embeddings.EmbeddingTable(\n",
    "    [o_embedding_table.embeddings zeros(300)],\n",
    "    [o_embedding_table.vocab; \"<OOV>\"]\n",
    ")\n",
    "\n",
    "const enc = LabelEnc.NativeLabels(\"<OOV>\", embedding_table.vocab)\n",
    "to_ind(lbl, enc=enc) = convertlabel(LabelEnc.Indices, lbl , enc)"
   ]
  },
  {
   "cell_type": "code",
   "execution_count": null,
   "metadata": {},
   "outputs": [],
   "source": [
    "#const raw_data = collect(Iterators.take(load_data(), 10_000));\n",
    "const raw_data = collect(load_data());"
   ]
  },
  {
   "cell_type": "code",
   "execution_count": null,
   "metadata": {},
   "outputs": [],
   "source": [
    "train, test = stratifiedobs(first, raw_data, shuffle=true);"
   ]
  },
  {
   "cell_type": "code",
   "execution_count": null,
   "metadata": {},
   "outputs": [],
   "source": [
    "input_rep(datum) = sum(embedding_table.embeddings[:, to_ind(datum.paper_abstract)],2)\n",
    "input_rep(data::AbstractVector) =  reduce(hcat, input_rep.(data))"
   ]
  },
  {
   "cell_type": "code",
   "execution_count": null,
   "metadata": {},
   "outputs": [],
   "source": [
    "using LIBSVM"
   ]
  },
  {
   "cell_type": "code",
   "execution_count": null,
   "metadata": {},
   "outputs": [],
   "source": [
    "model = svmtrain(input_rep(train), targets(first, train))"
   ]
  },
  {
   "cell_type": "code",
   "execution_count": null,
   "metadata": {},
   "outputs": [],
   "source": [
    "preds, dvs = svmpredict(model, input_rep(test))"
   ]
  },
  {
   "cell_type": "code",
   "execution_count": null,
   "metadata": {},
   "outputs": [],
   "source": [
    "mean(preds .== targets(first, test))"
   ]
  },
  {
   "cell_type": "code",
   "execution_count": null,
   "metadata": {},
   "outputs": [],
   "source": [
    "mean(targets(first, test).==NameToGender.Male)"
   ]
  },
  {
   "cell_type": "code",
   "execution_count": null,
   "metadata": {},
   "outputs": [],
   "source": []
  }
 ],
 "metadata": {
  "kernelspec": {
   "display_name": "Julia 0.6.3",
   "language": "julia",
   "name": "julia-0.6"
  },
  "language_info": {
   "file_extension": ".jl",
   "mimetype": "application/julia",
   "name": "julia",
   "version": "0.6.3"
  }
 },
 "nbformat": 4,
 "nbformat_minor": 2
}
