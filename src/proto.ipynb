{
 "cells": [
  {
   "cell_type": "code",
   "execution_count": null,
   "metadata": {},
   "outputs": [
    {
     "name": "stderr",
     "output_type": "stream",
     "text": [
      "\u001b[91mERROR (unhandled task failure): \u001b[91mInterruptException:\u001b[39m\n",
      "Stacktrace:\n",
      " [1] \u001b[1mtypeinf_code\u001b[22m\u001b[22m\u001b[1m(\u001b[22m\u001b[22m::Core.MethodInstance, ::Bool, ::Bool, ::Core.Inference.InferenceParams\u001b[1m)\u001b[22m\u001b[22m at \u001b[1m./inference.jl:2584\u001b[22m\u001b[22m\n",
      " [2] \u001b[1mtypeinf_ext\u001b[22m\u001b[22m\u001b[1m(\u001b[22m\u001b[22m::Core.MethodInstance, ::UInt64\u001b[1m)\u001b[22m\u001b[22m at \u001b[1m./inference.jl:2622\u001b[22m\u001b[22m\n",
      "\u001b[39m"
     ]
    }
   ],
   "source": [
    "addprocs(8)\n",
    "using AuthorGenderStudy\n"
   ]
  },
  {
   "cell_type": "code",
   "execution_count": null,
   "metadata": {},
   "outputs": [],
   "source": [
    "using Embeddings\n",
    "using MLDataUtils\n",
    "\n",
    "\n",
    "o_embedding_table = load_embeddings(Word2Vec) \n",
    "\n",
    "# Add OOV zero vector\n",
    "const embedding_table = Embeddings.EmbeddingTable(\n",
    "    [o_embedding_table.embeddings zeros(300)],\n",
    "    [o_embedding_table.vocab; \"<OOV>\"]\n",
    ")\n",
    "\n",
    "const enc = LabelEnc.NativeLabels(\"<OOV>\", embedding_table.vocab)\n",
    "to_ind(lbl, enc=enc) = convertlabel(LabelEnc.Indices, lbl , enc)"
   ]
  },
  {
   "cell_type": "code",
   "execution_count": null,
   "metadata": {},
   "outputs": [],
   "source": [
    "const num_test = 100_000\n",
    "const _data_stream = load_data()\n",
    "const test_data = collect(Iterators.take(, num_test));\n",
    "const train_data = _data_stream # Stream has been mutated to remove test_data"
   ]
  },
  {
   "cell_type": "code",
   "execution_count": null,
   "metadata": {},
   "outputs": [],
   "source": [
    "Itera"
   ]
  },
  {
   "cell_type": "code",
   "execution_count": null,
   "metadata": {},
   "outputs": [],
   "source": [
    "train, test = stratifiedobs(first, raw_data, shuffle=true);"
   ]
  },
  {
   "cell_type": "code",
   "execution_count": null,
   "metadata": {},
   "outputs": [],
   "source": [
    "input_rep(datum) = sum(embedding_table.embeddings[:, to_ind(datum.paper_abstract)],2)\n",
    "input_rep(data::AbstractVector) =  reduce(hcat, input_rep.(data))"
   ]
  },
  {
   "cell_type": "code",
   "execution_count": null,
   "metadata": {},
   "outputs": [],
   "source": [
    "using LIBSVM"
   ]
  },
  {
   "cell_type": "code",
   "execution_count": null,
   "metadata": {},
   "outputs": [],
   "source": [
    "model = svmtrain(input_rep(train), targets(first, train))"
   ]
  },
  {
   "cell_type": "code",
   "execution_count": null,
   "metadata": {},
   "outputs": [],
   "source": [
    "preds, dvs = svmpredict(model, input_rep(test))"
   ]
  },
  {
   "cell_type": "code",
   "execution_count": null,
   "metadata": {},
   "outputs": [],
   "source": [
    "mean(preds .== targets(first, test))"
   ]
  },
  {
   "cell_type": "code",
   "execution_count": null,
   "metadata": {},
   "outputs": [],
   "source": [
    "mean(targets(first, test).==NameToGender.Male)"
   ]
  },
  {
   "cell_type": "code",
   "execution_count": null,
   "metadata": {},
   "outputs": [],
   "source": [
    "1"
   ]
  },
  {
   "cell_type": "code",
   "execution_count": null,
   "metadata": {},
   "outputs": [],
   "source": []
  }
 ],
 "metadata": {
  "kernelspec": {
   "display_name": "Julia 0.6.3",
   "language": "julia",
   "name": "julia-0.6"
  },
  "language_info": {
   "file_extension": ".jl",
   "mimetype": "application/julia",
   "name": "julia",
   "version": "0.6.3"
  }
 },
 "nbformat": 4,
 "nbformat_minor": 2
}
